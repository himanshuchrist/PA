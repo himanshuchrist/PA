{
 "cells": [
  {
   "cell_type": "markdown",
   "id": "8c67c51d-97bb-488b-ba67-efc9d8dac662",
   "metadata": {},
   "source": [
    "## Lab Exercise 1\n",
    "### Exploratory Analysis of a Real-world application."
   ]
  },
  {
   "cell_type": "markdown",
   "id": "683beb65-3da2-43c3-aabb-6a97836412cc",
   "metadata": {},
   "source": [
    "### Q1.1: Clean the dataset by handling missing values, removing duplicates, and filtering any irrelevant data."
   ]
  },
  {
   "cell_type": "code",
   "execution_count": 2,
   "id": "75b00deb-4879-40dc-8ec7-8b3a5548fed4",
   "metadata": {},
   "outputs": [
    {
     "data": {
      "text/html": [
       "<div>\n",
       "<style scoped>\n",
       "    .dataframe tbody tr th:only-of-type {\n",
       "        vertical-align: middle;\n",
       "    }\n",
       "\n",
       "    .dataframe tbody tr th {\n",
       "        vertical-align: top;\n",
       "    }\n",
       "\n",
       "    .dataframe thead th {\n",
       "        text-align: right;\n",
       "    }\n",
       "</style>\n",
       "<table border=\"1\" class=\"dataframe\">\n",
       "  <thead>\n",
       "    <tr style=\"text-align: right;\">\n",
       "      <th></th>\n",
       "      <th>InvoiceNo</th>\n",
       "      <th>StockCode</th>\n",
       "      <th>Description</th>\n",
       "      <th>Quantity</th>\n",
       "      <th>InvoiceDate</th>\n",
       "      <th>UnitPrice</th>\n",
       "      <th>CustomerID</th>\n",
       "      <th>Country</th>\n",
       "    </tr>\n",
       "  </thead>\n",
       "  <tbody>\n",
       "    <tr>\n",
       "      <th>0</th>\n",
       "      <td>536365</td>\n",
       "      <td>85123A</td>\n",
       "      <td>WHITE HANGING HEART T-LIGHT HOLDER</td>\n",
       "      <td>6</td>\n",
       "      <td>2010-12-01 08:26:00</td>\n",
       "      <td>2.55</td>\n",
       "      <td>17850.0</td>\n",
       "      <td>United Kingdom</td>\n",
       "    </tr>\n",
       "    <tr>\n",
       "      <th>1</th>\n",
       "      <td>536365</td>\n",
       "      <td>71053</td>\n",
       "      <td>WHITE METAL LANTERN</td>\n",
       "      <td>6</td>\n",
       "      <td>2010-12-01 08:26:00</td>\n",
       "      <td>3.39</td>\n",
       "      <td>17850.0</td>\n",
       "      <td>United Kingdom</td>\n",
       "    </tr>\n",
       "    <tr>\n",
       "      <th>2</th>\n",
       "      <td>536365</td>\n",
       "      <td>84406B</td>\n",
       "      <td>CREAM CUPID HEARTS COAT HANGER</td>\n",
       "      <td>8</td>\n",
       "      <td>2010-12-01 08:26:00</td>\n",
       "      <td>2.75</td>\n",
       "      <td>17850.0</td>\n",
       "      <td>United Kingdom</td>\n",
       "    </tr>\n",
       "    <tr>\n",
       "      <th>3</th>\n",
       "      <td>536365</td>\n",
       "      <td>84029G</td>\n",
       "      <td>KNITTED UNION FLAG HOT WATER BOTTLE</td>\n",
       "      <td>6</td>\n",
       "      <td>2010-12-01 08:26:00</td>\n",
       "      <td>3.39</td>\n",
       "      <td>17850.0</td>\n",
       "      <td>United Kingdom</td>\n",
       "    </tr>\n",
       "    <tr>\n",
       "      <th>4</th>\n",
       "      <td>536365</td>\n",
       "      <td>84029E</td>\n",
       "      <td>RED WOOLLY HOTTIE WHITE HEART.</td>\n",
       "      <td>6</td>\n",
       "      <td>2010-12-01 08:26:00</td>\n",
       "      <td>3.39</td>\n",
       "      <td>17850.0</td>\n",
       "      <td>United Kingdom</td>\n",
       "    </tr>\n",
       "  </tbody>\n",
       "</table>\n",
       "</div>"
      ],
      "text/plain": [
       "  InvoiceNo StockCode                          Description  Quantity  \\\n",
       "0    536365    85123A   WHITE HANGING HEART T-LIGHT HOLDER         6   \n",
       "1    536365     71053                  WHITE METAL LANTERN         6   \n",
       "2    536365    84406B       CREAM CUPID HEARTS COAT HANGER         8   \n",
       "3    536365    84029G  KNITTED UNION FLAG HOT WATER BOTTLE         6   \n",
       "4    536365    84029E       RED WOOLLY HOTTIE WHITE HEART.         6   \n",
       "\n",
       "          InvoiceDate  UnitPrice  CustomerID         Country  \n",
       "0 2010-12-01 08:26:00       2.55     17850.0  United Kingdom  \n",
       "1 2010-12-01 08:26:00       3.39     17850.0  United Kingdom  \n",
       "2 2010-12-01 08:26:00       2.75     17850.0  United Kingdom  \n",
       "3 2010-12-01 08:26:00       3.39     17850.0  United Kingdom  \n",
       "4 2010-12-01 08:26:00       3.39     17850.0  United Kingdom  "
      ]
     },
     "execution_count": 2,
     "metadata": {},
     "output_type": "execute_result"
    }
   ],
   "source": [
    "import pandas as pd\n",
    "data=pd.read_excel('Online Retail.xlsx')\n",
    "data.head()"
   ]
  },
  {
   "cell_type": "code",
   "execution_count": 5,
   "id": "fb5365ba-e7b9-4c27-bfc2-e6f09925630b",
   "metadata": {},
   "outputs": [
    {
     "name": "stdout",
     "output_type": "stream",
     "text": [
      "<class 'pandas.core.frame.DataFrame'>\n",
      "RangeIndex: 541909 entries, 0 to 541908\n",
      "Data columns (total 8 columns):\n",
      " #   Column       Non-Null Count   Dtype         \n",
      "---  ------       --------------   -----         \n",
      " 0   InvoiceNo    541909 non-null  object        \n",
      " 1   StockCode    541909 non-null  object        \n",
      " 2   Description  540455 non-null  object        \n",
      " 3   Quantity     541909 non-null  int64         \n",
      " 4   InvoiceDate  541909 non-null  datetime64[ns]\n",
      " 5   UnitPrice    541909 non-null  float64       \n",
      " 6   CustomerID   406829 non-null  float64       \n",
      " 7   Country      541909 non-null  object        \n",
      "dtypes: datetime64[ns](1), float64(2), int64(1), object(4)\n",
      "memory usage: 33.1+ MB\n",
      "None\n"
     ]
    },
    {
     "data": {
      "text/plain": [
       "InvoiceNo           0\n",
       "StockCode           0\n",
       "Description      1454\n",
       "Quantity            0\n",
       "InvoiceDate         0\n",
       "UnitPrice           0\n",
       "CustomerID     135080\n",
       "Country             0\n",
       "dtype: int64"
      ]
     },
     "execution_count": 5,
     "metadata": {},
     "output_type": "execute_result"
    }
   ],
   "source": [
    "print(data.info())\n",
    "data.isnull().sum()"
   ]
  },
  {
   "cell_type": "markdown",
   "id": "702602d1-a5cd-4d79-8fb4-36f3b71dfc6f",
   "metadata": {},
   "source": [
    "#### As we can see the null values in CustomerID is almost 25% so we cannot drop them therefore, we will be assigning a common CustomerID say 12345 which will be representing the Wholesalers as they are the ones who don't have CustomerID. And coming to Description we will be dropping the null values as they are barely 0.2%"
   ]
  },
  {
   "cell_type": "code",
   "execution_count": 8,
   "id": "bf42e05b-0fbc-42dd-be7d-55d2bb472966",
   "metadata": {},
   "outputs": [],
   "source": [
    "data['CustomerID'].fillna(value=12345,inplace=True)"
   ]
  },
  {
   "cell_type": "code",
   "execution_count": 13,
   "id": "73265b97-8d74-4208-9b69-23980e037811",
   "metadata": {},
   "outputs": [
    {
     "name": "stdout",
     "output_type": "stream",
     "text": [
      "<class 'pandas.core.frame.DataFrame'>\n",
      "Index: 540455 entries, 0 to 541908\n",
      "Data columns (total 8 columns):\n",
      " #   Column       Non-Null Count   Dtype         \n",
      "---  ------       --------------   -----         \n",
      " 0   InvoiceNo    540455 non-null  object        \n",
      " 1   StockCode    540455 non-null  object        \n",
      " 2   Description  540455 non-null  object        \n",
      " 3   Quantity     540455 non-null  int64         \n",
      " 4   InvoiceDate  540455 non-null  datetime64[ns]\n",
      " 5   UnitPrice    540455 non-null  float64       \n",
      " 6   CustomerID   540455 non-null  float64       \n",
      " 7   Country      540455 non-null  object        \n",
      "dtypes: datetime64[ns](1), float64(2), int64(1), object(4)\n",
      "memory usage: 37.1+ MB\n",
      "None\n"
     ]
    },
    {
     "data": {
      "text/plain": [
       "InvoiceNo      0\n",
       "StockCode      0\n",
       "Description    0\n",
       "Quantity       0\n",
       "InvoiceDate    0\n",
       "UnitPrice      0\n",
       "CustomerID     0\n",
       "Country        0\n",
       "dtype: int64"
      ]
     },
     "execution_count": 13,
     "metadata": {},
     "output_type": "execute_result"
    }
   ],
   "source": [
    "data.dropna(inplace=True)\n",
    "print(data.info())\n",
    "data.isnull().sum()"
   ]
  },
  {
   "cell_type": "code",
   "execution_count": 16,
   "id": "826eb640-6cb6-4375-8751-b2360008b6f8",
   "metadata": {},
   "outputs": [
    {
     "data": {
      "text/plain": [
       "5268"
      ]
     },
     "execution_count": 16,
     "metadata": {},
     "output_type": "execute_result"
    }
   ],
   "source": [
    "data.duplicated().sum()"
   ]
  },
  {
   "cell_type": "markdown",
   "id": "aafc1668-1476-426b-acb2-0a1658a51d58",
   "metadata": {},
   "source": [
    "#### We can see that there are 5268 duplicates which is 1% of the data which we will be dropping."
   ]
  },
  {
   "cell_type": "code",
   "execution_count": 18,
   "id": "5f8c681d-7721-4b8b-92e4-b4962fbb9009",
   "metadata": {},
   "outputs": [
    {
     "data": {
      "text/plain": [
       "0"
      ]
     },
     "execution_count": 18,
     "metadata": {},
     "output_type": "execute_result"
    }
   ],
   "source": [
    "data.drop_duplicates(inplace=True)\n",
    "data.duplicated().sum()"
   ]
  },
  {
   "cell_type": "code",
   "execution_count": 38,
   "id": "d7cd62f3-bf95-46f3-87a1-67d2cab9221a",
   "metadata": {},
   "outputs": [
    {
     "data": {
      "text/plain": [
       "9725"
      ]
     },
     "execution_count": 38,
     "metadata": {},
     "output_type": "execute_result"
    }
   ],
   "source": [
    "len(data[data['Quantity']<0])"
   ]
  },
  {
   "cell_type": "markdown",
   "id": "0e85a5c4-5a76-46d2-8a3e-f7eb340c5b25",
   "metadata": {},
   "source": [
    "#### We can see that there are 9725 records having negative quantities. We can interpret that as these are sales returns/buy backs."
   ]
  },
  {
   "cell_type": "code",
   "execution_count": 44,
   "id": "66697f1d-fe8a-4a55-ac39-d913d944ab70",
   "metadata": {},
   "outputs": [
    {
     "data": {
      "image/png": "[encoded data removed]",
      "text/plain": [
       "<Figure size 640x480 with 1 Axes>"
      ]
     },
     "metadata": {},
     "output_type": "display_data"
    },
    {
     "data": {
      "text/plain": [
       "{'whiskers': [<matplotlib.lines.Line2D at 0x314225710>,\n",
       "  <matplotlib.lines.Line2D at 0x314226090>],\n",
       " 'caps': [<matplotlib.lines.Line2D at 0x314226c50>,\n",
       "  <matplotlib.lines.Line2D at 0x314235810>],\n",
       " 'boxes': [<matplotlib.lines.Line2D at 0x314224c50>],\n",
       " 'medians': [<matplotlib.lines.Line2D at 0x314226f90>],\n",
       " 'fliers': [<matplotlib.lines.Line2D at 0x314266010>],\n",
       " 'means': []}"
      ]
     },
     "execution_count": 44,
     "metadata": {},
     "output_type": "execute_result"
    },
    {
     "data": {
      "image/png": "[encoded data removed]",
      "text/plain": [
       "<Figure size 640x480 with 1 Axes>"
      ]
     },
     "metadata": {},
     "output_type": "display_data"
    }
   ],
   "source": [
    "import matplotlib.pyplot as plt\n",
    "plt.boxplot(data['Quantity'])\n",
    "plt.show()\n",
    "plt.boxplot(data['UnitPrice'])"
   ]
  },
  {
   "cell_type": "markdown",
   "id": "6e1c754b-25f5-4627-ad69-3e8c20ac1aca",
   "metadata": {},
   "source": [
    "#### We can see there are outliers in Quantity and Unit Prices, which we will be dropping."
   ]
  },
  {
   "cell_type": "code",
   "execution_count": 47,
   "id": "52783a30-8f09-465a-8c09-4ef655151672",
   "metadata": {},
   "outputs": [
    {
     "name": "stdout",
     "output_type": "stream",
     "text": [
      "(535187, 8)\n",
      "New data shape post deletion: (534688, 8)\n",
      "(534688, 8)\n",
      "New data shape post deletion: (534250, 8)\n"
     ]
    }
   ],
   "source": [
    "import numpy as np\n",
    "from scipy import stats\n",
    "def drop_outlier(data,col_name):\n",
    "  print(data.shape)\n",
    "  z = np.abs(stats.zscore(col_name))\n",
    "  data.drop(data.index[np.where(abs(z)>2.5)],inplace=True)\n",
    "  print(\"New data shape post deletion: \"+str(data.shape))\n",
    "drop_outlier(data,data['Quantity'])\n",
    "drop_outlier(data,data['UnitPrice'])"
   ]
  },
  {
   "cell_type": "markdown",
   "id": "80a927da-1ac1-46b8-81ab-939b23916d65",
   "metadata": {},
   "source": [
    "### Q1.2: Summarize the dataset by providing descriptive statistics (e.g., mean, median, standard deviation) for relevant columns like Quantity, UnitPrice, and InvoiceDate."
   ]
  },
  {
   "cell_type": "code",
   "execution_count": 48,
   "id": "6761c17d-e30e-4cf8-a042-9b30e0bd6458",
   "metadata": {},
   "outputs": [
    {
     "data": {
      "text/html": [
       "<div>\n",
       "<style scoped>\n",
       "    .dataframe tbody tr th:only-of-type {\n",
       "        vertical-align: middle;\n",
       "    }\n",
       "\n",
       "    .dataframe tbody tr th {\n",
       "        vertical-align: top;\n",
       "    }\n",
       "\n",
       "    .dataframe thead th {\n",
       "        text-align: right;\n",
       "    }\n",
       "</style>\n",
       "<table border=\"1\" class=\"dataframe\">\n",
       "  <thead>\n",
       "    <tr style=\"text-align: right;\">\n",
       "      <th></th>\n",
       "      <th>Quantity</th>\n",
       "      <th>InvoiceDate</th>\n",
       "      <th>UnitPrice</th>\n",
       "      <th>CustomerID</th>\n",
       "    </tr>\n",
       "  </thead>\n",
       "  <tbody>\n",
       "    <tr>\n",
       "      <th>count</th>\n",
       "      <td>534250.000000</td>\n",
       "      <td>534250</td>\n",
       "      <td>534250.000000</td>\n",
       "      <td>534250.000000</td>\n",
       "    </tr>\n",
       "    <tr>\n",
       "      <th>mean</th>\n",
       "      <td>9.230604</td>\n",
       "      <td>2011-07-04 12:02:56.872250880</td>\n",
       "      <td>3.504360</td>\n",
       "      <td>14549.022828</td>\n",
       "    </tr>\n",
       "    <tr>\n",
       "      <th>min</th>\n",
       "      <td>-524.000000</td>\n",
       "      <td>2010-12-01 08:26:00</td>\n",
       "      <td>0.000000</td>\n",
       "      <td>12345.000000</td>\n",
       "    </tr>\n",
       "    <tr>\n",
       "      <th>25%</th>\n",
       "      <td>1.000000</td>\n",
       "      <td>2011-03-28 11:34:00</td>\n",
       "      <td>1.250000</td>\n",
       "      <td>12352.000000</td>\n",
       "    </tr>\n",
       "    <tr>\n",
       "      <th>50%</th>\n",
       "      <td>3.000000</td>\n",
       "      <td>2011-07-19 15:55:00</td>\n",
       "      <td>2.080000</td>\n",
       "      <td>14364.000000</td>\n",
       "    </tr>\n",
       "    <tr>\n",
       "      <th>75%</th>\n",
       "      <td>10.000000</td>\n",
       "      <td>2011-10-19 09:00:00</td>\n",
       "      <td>4.130000</td>\n",
       "      <td>16243.000000</td>\n",
       "    </tr>\n",
       "    <tr>\n",
       "      <th>max</th>\n",
       "      <td>552.000000</td>\n",
       "      <td>2011-12-09 12:50:00</td>\n",
       "      <td>248.130000</td>\n",
       "      <td>18287.000000</td>\n",
       "    </tr>\n",
       "    <tr>\n",
       "      <th>std</th>\n",
       "      <td>23.956036</td>\n",
       "      <td>NaN</td>\n",
       "      <td>6.813925</td>\n",
       "      <td>1953.944034</td>\n",
       "    </tr>\n",
       "  </tbody>\n",
       "</table>\n",
       "</div>"
      ],
      "text/plain": [
       "            Quantity                    InvoiceDate      UnitPrice  \\\n",
       "count  534250.000000                         534250  534250.000000   \n",
       "mean        9.230604  2011-07-04 12:02:56.872250880       3.504360   \n",
       "min      -524.000000            2010-12-01 08:26:00       0.000000   \n",
       "25%         1.000000            2011-03-28 11:34:00       1.250000   \n",
       "50%         3.000000            2011-07-19 15:55:00       2.080000   \n",
       "75%        10.000000            2011-10-19 09:00:00       4.130000   \n",
       "max       552.000000            2011-12-09 12:50:00     248.130000   \n",
       "std        23.956036                            NaN       6.813925   \n",
       "\n",
       "          CustomerID  \n",
       "count  534250.000000  \n",
       "mean    14549.022828  \n",
       "min     12345.000000  \n",
       "25%     12352.000000  \n",
       "50%     14364.000000  \n",
       "75%     16243.000000  \n",
       "max     18287.000000  \n",
       "std      1953.944034  "
      ]
     },
     "execution_count": 48,
     "metadata": {},
     "output_type": "execute_result"
    }
   ],
   "source": [
    "data.describe()"
   ]
  },
  {
   "cell_type": "markdown",
   "id": "a2752c54-f6f4-4574-bae6-6bfe5d50b5ca",
   "metadata": {},
   "source": [
    "#### From the above table it is evident that all the records are from 1 Dec 2010 to 9 Dec 2011. The average quantity per invoice is approx. 9 and max being 552. The maximum buyback or sale return is 524 untis. coming to Unit Price we can see that products range from 0-248 and mean being 3.5(all in dollars)"
   ]
  },
  {
   "cell_type": "markdown",
   "id": "36cb5c39-6925-47ab-95b4-20b1abcff4bd",
   "metadata": {},
   "source": [
    "### Q2.1: What are the top 10 best-selling products by quantity?"
   ]
  },
  {
   "cell_type": "code",
   "execution_count": 142,
   "id": "5f4e6ba3-596e-42b5-a2a9-ff6056986eb0",
   "metadata": {},
   "outputs": [
    {
     "data": {
      "text/plain": [
       "<BarContainer object of 10 artists>"
      ]
     },
     "execution_count": 142,
     "metadata": {},
     "output_type": "execute_result"
    },
    {
     "data": {
      "image/png": "[encoded data removed]",
      "text/plain": [
       "<Figure size 640x480 with 1 Axes>"
      ]
     },
     "metadata": {},
     "output_type": "display_data"
    }
   ],
   "source": [
    "qty=data.groupby('Description')['Quantity'].sum().reset_index()\n",
    "qty=qty.sort_values(by='Quantity',ascending=False)[:10]\n",
    "plt.bar(qty.Description,qty.Quantity)"
   ]
  },
  {
   "cell_type": "markdown",
   "id": "55cd4f84-19b2-4166-a81b-750630a869ed",
   "metadata": {},
   "source": [
    "#### We can see the most sold product is WHITE HANGING HEART T-LIGHT HOLDER followed by REGENCY CAKESTAND 3 TIER."
   ]
  },
  {
   "cell_type": "markdown",
   "id": "4d9d8a7d-5e13-4386-b095-bf174f700832",
   "metadata": {},
   "source": [
    "### Q2.2: What is the total revenue generated by each product?"
   ]
  },
  {
   "cell_type": "code",
   "execution_count": 74,
   "id": "c8166c32-8e6e-4a12-90e2-705c7166aded",
   "metadata": {},
   "outputs": [
    {
     "data": {
      "text/plain": [
       "<Axes: xlabel='Description'>"
      ]
     },
     "execution_count": 74,
     "metadata": {},
     "output_type": "execute_result"
    },
    {
     "data": {
      "image/png": "[encoded data removed]",
      "text/plain": [
       "<Figure size 640x480 with 1 Axes>"
      ]
     },
     "metadata": {},
     "output_type": "display_data"
    }
   ],
   "source": [
    "data['Revenue']=data['Quantity']*data['UnitPrice']\n",
    "data[['Description','Revenue']].groupby('Description').count().sort_values(by='Revenue',ascending=False)[:10].plot(kind='bar')"
   ]
  },
  {
   "cell_type": "markdown",
   "id": "c1a2df21-42dd-488c-87cf-74fe1281d8aa",
   "metadata": {},
   "source": [
    "#### We can see that the most selling products are also generating most revenues"
   ]
  },
  {
   "cell_type": "markdown",
   "id": "dce9e71d-6739-4981-844b-56ed95655af4",
   "metadata": {},
   "source": [
    "### Q2.3: What is the monthly revenue trend? Are there noticeable patterns or peaks in sales over time?"
   ]
  },
  {
   "cell_type": "code",
   "execution_count": 78,
   "id": "de661adb-d4dd-417d-8e3d-a51b5cace3c2",
   "metadata": {},
   "outputs": [
    {
     "data": {
      "text/plain": [
       "[<matplotlib.lines.Line2D at 0x16db81f50>]"
      ]
     },
     "execution_count": 78,
     "metadata": {},
     "output_type": "execute_result"
    },
    {
     "data": {
      "image/png": "[encoded data removed]",
      "text/plain": [
       "<Figure size 640x480 with 1 Axes>"
      ]
     },
     "metadata": {},
     "output_type": "display_data"
    }
   ],
   "source": [
    "plt.plot(data[data['Revenue']>0]['InvoiceDate'],data[data['Revenue']>0]['Revenue'])"
   ]
  },
  {
   "cell_type": "markdown",
   "id": "76f1bfb0-31c7-4bd5-b0a6-19326d556d5a",
   "metadata": {},
   "source": [
    "### Q3.1: How many unique customers are there in the dataset? What percentage of sales is driven by repeat customers?"
   ]
  },
  {
   "cell_type": "code",
   "execution_count": 91,
   "id": "4747f715-ade9-405a-8d5c-157afa2860d1",
   "metadata": {},
   "outputs": [
    {
     "name": "stdout",
     "output_type": "stream",
     "text": [
      "Total Unique Customers:  4354\n"
     ]
    }
   ],
   "source": [
    "print(\"Total Unique Customers: \",len(data['CustomerID'].unique()))"
   ]
  },
  {
   "cell_type": "code",
   "execution_count": 109,
   "id": "2dd311d7-c516-406b-a23f-0279c8fbf3de",
   "metadata": {},
   "outputs": [
    {
     "data": {
      "text/html": [
       "<div>\n",
       "<style scoped>\n",
       "    .dataframe tbody tr th:only-of-type {\n",
       "        vertical-align: middle;\n",
       "    }\n",
       "\n",
       "    .dataframe tbody tr th {\n",
       "        vertical-align: top;\n",
       "    }\n",
       "\n",
       "    .dataframe thead th {\n",
       "        text-align: right;\n",
       "    }\n",
       "</style>\n",
       "<table border=\"1\" class=\"dataframe\">\n",
       "  <thead>\n",
       "    <tr style=\"text-align: right;\">\n",
       "      <th></th>\n",
       "      <th>Revenue</th>\n",
       "    </tr>\n",
       "    <tr>\n",
       "      <th>RepeatCustomer</th>\n",
       "      <th></th>\n",
       "    </tr>\n",
       "  </thead>\n",
       "  <tbody>\n",
       "    <tr>\n",
       "      <th>False</th>\n",
       "      <td>4354</td>\n",
       "    </tr>\n",
       "    <tr>\n",
       "      <th>True</th>\n",
       "      <td>529896</td>\n",
       "    </tr>\n",
       "  </tbody>\n",
       "</table>\n",
       "</div>"
      ],
      "text/plain": [
       "                Revenue\n",
       "RepeatCustomer         \n",
       "False              4354\n",
       "True             529896"
      ]
     },
     "execution_count": 109,
     "metadata": {},
     "output_type": "execute_result"
    }
   ],
   "source": [
    "data['RepeatCustomer']=data['CustomerID'].duplicated()\n",
    "data[['RepeatCustomer','Revenue']].groupby('RepeatCustomer').count()"
   ]
  },
  {
   "cell_type": "markdown",
   "id": "2be1f29b-294d-4dc3-aed4-7292880987a8",
   "metadata": {},
   "source": [
    "#### We can see that 99.99% revenue is driven by repeat customers"
   ]
  },
  {
   "cell_type": "markdown",
   "id": "c1881587-de1a-4bba-b079-61cb2f89ad7a",
   "metadata": {},
   "source": [
    "### Q3.2: What is the average order value (total sales per invoice)? How does this vary across different customer segments (e.g., country-wise)?"
   ]
  },
  {
   "cell_type": "code",
   "execution_count": 114,
   "id": "e047285f-aa9c-43b5-bb3b-5d42f670fdfb",
   "metadata": {},
   "outputs": [
    {
     "name": "stdout",
     "output_type": "stream",
     "text": [
      "Avergae Order value:  17.827109806270474\n"
     ]
    }
   ],
   "source": [
    "print(\"Avergae Order value: \",data['Revenue'].sum()/data.shape[0])"
   ]
  },
  {
   "cell_type": "code",
   "execution_count": 119,
   "id": "33a04930-bdc9-471b-bc86-83c2d29dc8ae",
   "metadata": {},
   "outputs": [
    {
     "data": {
      "text/html": [
       "<div>\n",
       "<style scoped>\n",
       "    .dataframe tbody tr th:only-of-type {\n",
       "        vertical-align: middle;\n",
       "    }\n",
       "\n",
       "    .dataframe tbody tr th {\n",
       "        vertical-align: top;\n",
       "    }\n",
       "\n",
       "    .dataframe thead th {\n",
       "        text-align: right;\n",
       "    }\n",
       "</style>\n",
       "<table border=\"1\" class=\"dataframe\">\n",
       "  <thead>\n",
       "    <tr style=\"text-align: right;\">\n",
       "      <th></th>\n",
       "      <th>Revenue</th>\n",
       "    </tr>\n",
       "    <tr>\n",
       "      <th>Country</th>\n",
       "      <th></th>\n",
       "    </tr>\n",
       "  </thead>\n",
       "  <tbody>\n",
       "    <tr>\n",
       "      <th>Australia</th>\n",
       "      <td>1246</td>\n",
       "    </tr>\n",
       "    <tr>\n",
       "      <th>Austria</th>\n",
       "      <td>401</td>\n",
       "    </tr>\n",
       "    <tr>\n",
       "      <th>Bahrain</th>\n",
       "      <td>19</td>\n",
       "    </tr>\n",
       "    <tr>\n",
       "      <th>Belgium</th>\n",
       "      <td>2069</td>\n",
       "    </tr>\n",
       "    <tr>\n",
       "      <th>Brazil</th>\n",
       "      <td>32</td>\n",
       "    </tr>\n",
       "    <tr>\n",
       "      <th>Canada</th>\n",
       "      <td>150</td>\n",
       "    </tr>\n",
       "    <tr>\n",
       "      <th>Channel Islands</th>\n",
       "      <td>755</td>\n",
       "    </tr>\n",
       "    <tr>\n",
       "      <th>Cyprus</th>\n",
       "      <td>609</td>\n",
       "    </tr>\n",
       "    <tr>\n",
       "      <th>Czech Republic</th>\n",
       "      <td>30</td>\n",
       "    </tr>\n",
       "    <tr>\n",
       "      <th>Denmark</th>\n",
       "      <td>389</td>\n",
       "    </tr>\n",
       "    <tr>\n",
       "      <th>EIRE</th>\n",
       "      <td>8169</td>\n",
       "    </tr>\n",
       "    <tr>\n",
       "      <th>European Community</th>\n",
       "      <td>61</td>\n",
       "    </tr>\n",
       "    <tr>\n",
       "      <th>Finland</th>\n",
       "      <td>694</td>\n",
       "    </tr>\n",
       "    <tr>\n",
       "      <th>France</th>\n",
       "      <td>8534</td>\n",
       "    </tr>\n",
       "    <tr>\n",
       "      <th>Germany</th>\n",
       "      <td>9470</td>\n",
       "    </tr>\n",
       "    <tr>\n",
       "      <th>Greece</th>\n",
       "      <td>146</td>\n",
       "    </tr>\n",
       "    <tr>\n",
       "      <th>Hong Kong</th>\n",
       "      <td>278</td>\n",
       "    </tr>\n",
       "    <tr>\n",
       "      <th>Iceland</th>\n",
       "      <td>182</td>\n",
       "    </tr>\n",
       "    <tr>\n",
       "      <th>Israel</th>\n",
       "      <td>294</td>\n",
       "    </tr>\n",
       "    <tr>\n",
       "      <th>Italy</th>\n",
       "      <td>802</td>\n",
       "    </tr>\n",
       "    <tr>\n",
       "      <th>Japan</th>\n",
       "      <td>345</td>\n",
       "    </tr>\n",
       "    <tr>\n",
       "      <th>Lebanon</th>\n",
       "      <td>45</td>\n",
       "    </tr>\n",
       "    <tr>\n",
       "      <th>Lithuania</th>\n",
       "      <td>35</td>\n",
       "    </tr>\n",
       "    <tr>\n",
       "      <th>Malta</th>\n",
       "      <td>127</td>\n",
       "    </tr>\n",
       "    <tr>\n",
       "      <th>Netherlands</th>\n",
       "      <td>2360</td>\n",
       "    </tr>\n",
       "    <tr>\n",
       "      <th>Norway</th>\n",
       "      <td>1081</td>\n",
       "    </tr>\n",
       "    <tr>\n",
       "      <th>Poland</th>\n",
       "      <td>341</td>\n",
       "    </tr>\n",
       "    <tr>\n",
       "      <th>Portugal</th>\n",
       "      <td>1498</td>\n",
       "    </tr>\n",
       "    <tr>\n",
       "      <th>RSA</th>\n",
       "      <td>58</td>\n",
       "    </tr>\n",
       "    <tr>\n",
       "      <th>Saudi Arabia</th>\n",
       "      <td>10</td>\n",
       "    </tr>\n",
       "    <tr>\n",
       "      <th>Singapore</th>\n",
       "      <td>219</td>\n",
       "    </tr>\n",
       "    <tr>\n",
       "      <th>Spain</th>\n",
       "      <td>2526</td>\n",
       "    </tr>\n",
       "    <tr>\n",
       "      <th>Sweden</th>\n",
       "      <td>450</td>\n",
       "    </tr>\n",
       "    <tr>\n",
       "      <th>Switzerland</th>\n",
       "      <td>1994</td>\n",
       "    </tr>\n",
       "    <tr>\n",
       "      <th>USA</th>\n",
       "      <td>291</td>\n",
       "    </tr>\n",
       "    <tr>\n",
       "      <th>United Arab Emirates</th>\n",
       "      <td>68</td>\n",
       "    </tr>\n",
       "    <tr>\n",
       "      <th>United Kingdom</th>\n",
       "      <td>488030</td>\n",
       "    </tr>\n",
       "    <tr>\n",
       "      <th>Unspecified</th>\n",
       "      <td>442</td>\n",
       "    </tr>\n",
       "  </tbody>\n",
       "</table>\n",
       "</div>"
      ],
      "text/plain": [
       "                      Revenue\n",
       "Country                      \n",
       "Australia                1246\n",
       "Austria                   401\n",
       "Bahrain                    19\n",
       "Belgium                  2069\n",
       "Brazil                     32\n",
       "Canada                    150\n",
       "Channel Islands           755\n",
       "Cyprus                    609\n",
       "Czech Republic             30\n",
       "Denmark                   389\n",
       "EIRE                     8169\n",
       "European Community         61\n",
       "Finland                   694\n",
       "France                   8534\n",
       "Germany                  9470\n",
       "Greece                    146\n",
       "Hong Kong                 278\n",
       "Iceland                   182\n",
       "Israel                    294\n",
       "Italy                     802\n",
       "Japan                     345\n",
       "Lebanon                    45\n",
       "Lithuania                  35\n",
       "Malta                     127\n",
       "Netherlands              2360\n",
       "Norway                   1081\n",
       "Poland                    341\n",
       "Portugal                 1498\n",
       "RSA                        58\n",
       "Saudi Arabia               10\n",
       "Singapore                 219\n",
       "Spain                    2526\n",
       "Sweden                    450\n",
       "Switzerland              1994\n",
       "USA                       291\n",
       "United Arab Emirates       68\n",
       "United Kingdom         488030\n",
       "Unspecified               442"
      ]
     },
     "execution_count": 119,
     "metadata": {},
     "output_type": "execute_result"
    }
   ],
   "source": [
    "customersegments=data[['Country','Revenue']].groupby('Country').count()\n",
    "customersegments['ticketprice']=customersegments['Revenue']/data['']"
   ]
  },
  {
   "cell_type": "code",
   "execution_count": 121,
   "id": "8d1fa474-9213-4a51-a338-3bfd917d8f9c",
   "metadata": {},
   "outputs": [
    {
     "data": {
      "text/plain": [
       "Country\n",
       "United Kingdom          488030\n",
       "Germany                   9470\n",
       "France                    8534\n",
       "EIRE                      8169\n",
       "Spain                     2526\n",
       "Netherlands               2360\n",
       "Belgium                   2069\n",
       "Switzerland               1994\n",
       "Portugal                  1498\n",
       "Australia                 1246\n",
       "Norway                    1081\n",
       "Italy                      802\n",
       "Channel Islands            755\n",
       "Finland                    694\n",
       "Cyprus                     609\n",
       "Sweden                     450\n",
       "Unspecified                442\n",
       "Austria                    401\n",
       "Denmark                    389\n",
       "Japan                      345\n",
       "Poland                     341\n",
       "Israel                     294\n",
       "USA                        291\n",
       "Hong Kong                  278\n",
       "Singapore                  219\n",
       "Iceland                    182\n",
       "Canada                     150\n",
       "Greece                     146\n",
       "Malta                      127\n",
       "United Arab Emirates        68\n",
       "European Community          61\n",
       "RSA                         58\n",
       "Lebanon                     45\n",
       "Lithuania                   35\n",
       "Brazil                      32\n",
       "Czech Republic              30\n",
       "Bahrain                     19\n",
       "Saudi Arabia                10\n",
       "Name: count, dtype: int64"
      ]
     },
     "execution_count": 121,
     "metadata": {},
     "output_type": "execute_result"
    }
   ],
   "source": [
    "data['Country'].value_counts()"
   ]
  },
  {
   "cell_type": "code",
   "execution_count": null,
   "id": "5bf34e10-336c-4dfc-b0c2-6ccaad97a569",
   "metadata": {},
   "outputs": [],
   "source": []
  }
 ],
 "metadata": {
  "kernelspec": {
   "display_name": "Python 3 (ipykernel)",
   "language": "python",
   "name": "python3"
  },
  "language_info": {
   "codemirror_mode": {
    "name": "ipython",
    "version": 3
   },
   "file_extension": ".py",
   "mimetype": "text/x-python",
   "name": "python",
   "nbconvert_exporter": "python",
   "pygments_lexer": "ipython3",
   "version": "3.11.7"
  }
 },
 "nbformat": 4,
 "nbformat_minor": 5
}
